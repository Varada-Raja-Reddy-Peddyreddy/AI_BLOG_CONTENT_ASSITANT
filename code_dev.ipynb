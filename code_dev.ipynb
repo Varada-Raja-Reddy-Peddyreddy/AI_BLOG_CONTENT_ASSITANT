{
 "cells": [
  {
   "cell_type": "code",
   "execution_count": 1,
   "metadata": {},
   "outputs": [],
   "source": [
    "# set the huggingface api token as envinorment variable\n",
    "\n",
    "import os\n",
    "from secret_api_keys import huggingface_api_key\n",
    "os.environ['HUGGINGFACEHUB_API_TOKEN'] = huggingface_api_key"
   ]
  },
  {
   "cell_type": "code",
   "execution_count": 2,
   "metadata": {},
   "outputs": [
    {
     "name": "stderr",
     "output_type": "stream",
     "text": [
      "WARNING! token is not default parameter.\n",
      "                    token was transferred to model_kwargs.\n",
      "                    Please make sure that token is what you intended.\n"
     ]
    }
   ],
   "source": [
    "# importing the huggingface endpoint\n",
    "from langchain_huggingface import HuggingFaceEndpoint\n",
    "llm = HuggingFaceEndpoint (\n",
    "repo_id = 'meta-llama/Meta-Llama-3-8B-Instruct',\n",
    "token = huggingface_api_key,\n",
    "temperature = 0.6\n",
    ")"
   ]
  },
  {
   "cell_type": "code",
   "execution_count": 3,
   "metadata": {},
   "outputs": [
    {
     "name": "stdout",
     "output_type": "stream",
     "text": [
      ". Here are some suggestions:\n",
      "\n",
      "1. **Machine Learning Musings**: A blog that explores the world of machine learning, with a focus on the latest trends, techniques, and applications.\n",
      "2. **The Machine Learning Journal**: A blog that delves into the world of machine learning, covering topics such as deep learning, natural language processing, and computer vision.\n",
      "3. **Machine Learning Mastery**: A blog that aims to help readers master the art of machine learning, with tutorials, examples, and case studies.\n",
      "4. **The AI Chronicles**: A blog that explores the intersection of machine learning and artificial intelligence, covering topics such as natural language processing, computer vision, and robotics.\n",
      "5. **Machine Learning Insights**: A blog that provides insights and analysis on the latest machine learning trends, techniques, and applications.\n",
      "6. **The Machine Learning Times**: A blog that keeps readers up-to-date with the latest machine learning news, trends, and breakthroughs.\n",
      "7. **Machine Learning Uncovered**: A blog that uncovers the latest machine learning techniques, tools, and applications, and provides tutorials and examples to help readers learn.\n",
      "8. **The Machine Learning Hub**: A blog that serves as a hub for machine learning enthusiasts, providing tutorials, examples, and case studies on various machine learning topics.\n",
      "9. **Machine Learning Explained**: A blog that explains complex machine learning concepts in simple terms, making it accessible to readers of all levels.\n",
      "10. **The Machine Learning Journey**: A blog that documents the journey of a machine learning practitioner, covering topics such as data preprocessing, model selection, and deployment.\n",
      "\n",
      "Choose the one that resonates with you the most, or feel free to modify any of these suggestions to fit your style and tone. Good luck with your blog!\n"
     ]
    }
   ],
   "source": [
    "#invoke llm \n",
    "print(llm.invoke('Hey , Give me a title for machine learning Blog'))"
   ]
  },
  {
   "cell_type": "code",
   "execution_count": 4,
   "metadata": {},
   "outputs": [
    {
     "name": "stdout",
     "output_type": "stream",
     "text": [
      " just give the topics\n",
      "1. **Gradient Descent**\n",
      "2. **Overfitting**\n",
      "3. **Underfitting**\n",
      "4. **K-Means Clustering**\n",
      "5. **Support Vector Machines**\n",
      "6. **Decision Trees**\n",
      "7. **Random Forest**\n",
      "8. **Neural Networks**\n",
      "9. **Natural Language Processing**\n",
      "10. **Deep Learning**\n",
      "11. **Reinforcement Learning**\n",
      "12. **Transfer Learning**\n",
      "13. **Hyperparameter Tuning**\n",
      "14. **Model Evaluation Metrics**\n",
      "15. **Unsupervised Learning**\n",
      "16. **Supervised Learning**\n",
      "17. **Semi-Supervised Learning**\n",
      "18. **Ensemble Methods**\n",
      "19. **Gradient Boosting**\n",
      "20. **Autoencoders**\n",
      "\n",
      "These topics should give you a good starting point for writing a blog about machine learning. Good luck with your blog! \n",
      "\n",
      "If you need more topics or want me to elaborate on these topics, feel free to ask! \n",
      "\n",
      "Let me know if you want me to suggest more topics. \n",
      "\n",
      "Here are some more topics:\n",
      "\n",
      "21. **Generative Adversarial Networks**\n",
      "22. **Convolutional Neural Networks**\n",
      "23. **Recurrent Neural Networks**\n",
      "24. **Long Short-Term Memory Networks**\n",
      "25. **Time Series Analysis**\n",
      "26. **Explainable AI**\n",
      "27. **Fairness in Machine Learning**\n",
      "28. **Machine Learning for Healthcare**\n",
      "29. **Machine Learning for Finance**\n",
      "30. **Machine Learning for Marketing**\n",
      "\n",
      "Let me know if you want more! \n",
      "\n",
      "Here are some more topics:\n",
      "\n",
      "31. **Machine Learning for Computer Vision**\n",
      "32. **Object Detection**\n",
      "33. **Image Segmentation**\n",
      "34. **Image Classification**\n",
      "35. **Natural Language Processing for Sentiment Analysis**\n",
      "36. **Named Entity Recognition**\n",
      "37. **Part-of-Speech Tagging**\n",
      "38. **Machine Learning for Recommendation Systems**\n",
      "39. **Collaborative Filtering**\n",
      "40. **Content-Based Filtering**\n",
      "\n",
      "Let me know if you want more! \n",
      "\n",
      "Here are some more topics:\n",
      "\n",
      "41. **Machine Learning for Robotics**\n",
      "42. **Machine Learning for Autonomous Vehicles**\n",
      "43. **Machine Learning for Audio Processing**\n",
      "44. **Machine Learning for Speech Recognition**\n",
      "45. **Machine Learning for Music Generation**\n",
      "46. **Machine Learning for Game Development**\n",
      "47. **Machine Learning for Web Development**\n",
      "48. **Machine Learning for Mobile App Development**\n",
      "49. **Machine Learning for IoT**\n",
      "50. **Machine Learning for Edge Computing**\n",
      "\n",
      "Let me know if you want more! \n",
      "\n",
      "Please let me know if you\n"
     ]
    }
   ],
   "source": [
    "print(llm.invoke('i want to write a blog related to machine learning suggest me some topics for the blog and dont give explination'))"
   ]
  },
  {
   "cell_type": "code",
   "execution_count": 5,
   "metadata": {},
   "outputs": [
    {
     "name": "stdout",
     "output_type": "stream",
     "text": [
      " just give the list of topics\n",
      "\n",
      "1. Top 10 Tourist Destinations\n",
      "2. Cultural Heritage Tourism\n",
      "3. Adventure Travel\n",
      "4. Sustainable Tourism\n",
      "5. Luxury Travel\n",
      "6. Eco-Tourism\n",
      "7. Food and Wine Tourism\n",
      "8. Wildlife Tourism\n",
      "9. City Breaks\n",
      "10. Road Trips\n",
      "11. Cruise Tourism\n",
      "12. Adventure Activities\n",
      "13. Cultural Immersion\n",
      "14. Nature and Wildlife\n",
      "15. Spa and Wellness Tourism\n",
      "16. Business Travel\n",
      "17. Luxury Trains\n",
      "18. Scuba Diving and Snorkeling\n",
      "19. Cultural Festivals\n",
      "20. Historical Landmarks\n",
      "\n",
      "Note: You can choose any of the above topics and make it more specific by adding subtopics or adding your own twist to it. Good luck with your blog! 1 of 1 people found this helpful\n",
      "• • •\n",
      "• • •\n",
      "• • •\n",
      "• • •\n",
      "• • •\n",
      "• • •\n",
      "• • •\n",
      "• • •\n",
      "• • •\n",
      "• • •\n",
      "• • •\n",
      "• • •\n",
      "• • •\n",
      "• • •\n",
      "• • •\n",
      "• • •\n",
      "• • •\n",
      "• • •\n",
      "• • •\n",
      "• • •\n",
      "• • •\n",
      "• • •\n",
      "• • •\n",
      "• • •\n",
      "• • •\n",
      "• • •\n",
      "• • •\n",
      "• • •\n",
      "• • •\n",
      "• • •\n",
      "• • •\n",
      "• • •\n",
      "• • •\n",
      "• • •\n",
      "• • •\n",
      "• • •\n",
      "• • •\n",
      "• • •\n",
      "• • •\n",
      "• • •\n",
      "• • •\n",
      "• • •\n",
      "• • •\n",
      "• • •\n",
      "• • •\n",
      "• • •\n",
      "• • •\n",
      "• • •\n",
      "• • •\n",
      "• • •\n",
      "• • •\n",
      "• • •\n",
      "• • •\n",
      "• • •\n",
      "• • •\n",
      "• • •\n",
      "• • •\n",
      "• • •\n",
      "• • •\n",
      "• • •\n",
      "• • •\n",
      "• • •\n",
      "• • •\n",
      "• • •\n",
      "• • •\n",
      "• • •\n",
      "• • •\n",
      "• • •\n",
      "• • •\n",
      "• • •\n",
      "• • •\n",
      "• • •\n",
      "• • •\n",
      "• • •\n",
      "• • •\n",
      "• • •\n",
      "• • •\n",
      "• • •\n",
      "• • •\n",
      "• • •\n",
      "• • •\n",
      "• • •\n",
      "• • •\n",
      "• • •\n",
      "•\n"
     ]
    }
   ],
   "source": [
    "print(llm.invoke('i want to write a blog related to global tourism suggest me some topics for the blog and dont give explination'))"
   ]
  },
  {
   "cell_type": "code",
   "execution_count": 6,
   "metadata": {},
   "outputs": [],
   "source": [
    "# define a promtTemplate for title suggestions\n",
    "from langchain.prompts import PromptTemplate # importing promptTemplate Class from Langchain\n",
    "\n",
    "prompt_Template_for_title_suggestion = PromptTemplate(\n",
    "    input_variables = ['topic'], #specifying the input variables \n",
    "    template = #Defining the prompt template \n",
    "\n",
    "    '''\n",
    "    I'm planning a blog post on topic : {topic} .\n",
    "    The Title is informative , or humorous, or presuasive.\n",
    "    The Target audience are beginners , tech enthusiasts.\n",
    "    suggest list of ten creative and attention-grabbing titles for this blog post\n",
    "    Don't give explanation or overview for each title.\n",
    "    '''\n",
    ")\n",
    "\n"
   ]
  },
  {
   "cell_type": "code",
   "execution_count": 7,
   "metadata": {},
   "outputs": [],
   "source": [
    "#creating chains \n",
    "title_chain = prompt_Template_for_title_suggestion | llm"
   ]
  },
  {
   "cell_type": "code",
   "execution_count": 8,
   "metadata": {},
   "outputs": [
    {
     "name": "stdout",
     "output_type": "stream",
     "text": [
      "\n",
      "    I'm planning a blog post on topic : volleyball .\n",
      "    The Title is informative , or humorous, or presuasive.\n",
      "    The Target audience are beginners , tech enthusiasts.\n",
      "    suggest list of ten creative and attention-grabbing titles for this blog post\n",
      "    Don't give explanation or overview for each title.\n",
      "    \n"
     ]
    }
   ],
   "source": [
    "# The Information we are feeding\n",
    "\n",
    "print(prompt_Template_for_title_suggestion.format(topic = 'volleyball'))"
   ]
  },
  {
   "cell_type": "code",
   "execution_count": 9,
   "metadata": {},
   "outputs": [
    {
     "name": "stdout",
     "output_type": "stream",
     "text": [
      " 1. \"The Spike Heard Around the World\"\n",
      "     2. \"Volleyball 101: A Beginner's Guide to the Game\"\n",
      "     3. \"Serving Up Success: The Ultimate Volleyball Guide\"\n",
      "     4. \"The Volleyball Coach's Guide to Winning the Game\"\n",
      "     5. \"From Novice to Pro: A Volleyball Player's Journey\"\n",
      "     6. \"The Art of Volleyball: Tips and Tricks for Beginners\"\n",
      "     7. \"The Volleyball Bible: A Comprehensive Guide to the Game\"\n",
      "     8. \"Volleyball for Dummies: A Beginner's Guide to the Game\"\n",
      "     9. \"The Volleyball Coach's Playbook: Strategies for Success\"\n",
      "     10. \"The Volleyball Revolution: How to Take Your Game to the Next Level\" \n",
      "\n",
      "\n",
      "\n",
      "\n",
      "\n",
      "Here are the titles you requested:\n",
      "\n",
      "1. \"The Spike Heard Around the World\"\n",
      "2. \"Volleyball 101: A Beginner's Guide to the Game\"\n",
      "3. \"Serving Up Success: The Ultimate Volleyball Guide\"\n",
      "4. \"The Volleyball Coach's Guide to Winning the Game\"\n",
      "5. \"From Novice to Pro: A Volleyball Player's Journey\"\n",
      "6. \"The Art of Volleyball: Tips and Tricks for Beginners\"\n",
      "7. \"The Volleyball Bible: A Comprehensive Guide to the Game\"\n",
      "8. \"Volleyball for Dummies: A Beginner's Guide to the Game\"\n",
      "9. \"The Volleyball Coach's Playbook: Strategies for Success\"\n",
      "10. \"The Volleyball Revolution: How to Take Your Game to the Next Level\"\n"
     ]
    }
   ],
   "source": [
    "# Generating titles using the title suggestion chain\n",
    "topic = 'Volleyball'\n",
    "print(title_chain.invoke(topic))"
   ]
  },
  {
   "cell_type": "code",
   "execution_count": 10,
   "metadata": {},
   "outputs": [],
   "source": [
    "# Blog Generation \n",
    "Title_of_the_blog = 'From Zero to Hero: How to Master Volleyball in 30 Days'\n",
    "num_of_words = 500\n",
    "formatted_words = 'nike , fane base , popularity ,annual revenue , reconisation'"
   ]
  },
  {
   "cell_type": "code",
   "execution_count": 11,
   "metadata": {},
   "outputs": [],
   "source": [
    "#define a template for blog generation\n",
    "\n",
    "prompt_Template_for_Blog = PromptTemplate(\n",
    "    inputvariables = ['title,keywords,Blog_Length'],\n",
    "    template = \n",
    "\n",
    "    '''\n",
    "    Write a high-Quality , informative , Technical blog post on topic {title}\n",
    "\n",
    "    Target the content towards a begginer auidence.\n",
    "\n",
    "    use a conversational writing style and structure the content with introduction , body paragraphs and conclusion.\n",
    "\n",
    "    Try to incoperate these words : {keywords}.\n",
    "\n",
    "    Aim for a content length of : {Blog_Length}.\n",
    "\n",
    "    Make the content engaging and capture the reader's attention.\n",
    "    '''\n",
    ")"
   ]
  },
  {
   "cell_type": "code",
   "execution_count": 12,
   "metadata": {},
   "outputs": [],
   "source": [
    "blog_chain = prompt_Template_for_Blog | llm"
   ]
  },
  {
   "cell_type": "code",
   "execution_count": 13,
   "metadata": {},
   "outputs": [
    {
     "name": "stdout",
     "output_type": "stream",
     "text": [
      "\n",
      "\n",
      "\n",
      "\n",
      "Here is the blog post:\n",
      "\n",
      "**From Zero to Hero: How to Master Volleyball in 30 Days**\n",
      "\n",
      "Are you ready to transform yourself from a volleyball newbie to a volleyball master in just 30 days? With the right approach, dedication, and guidance, you can achieve this incredible feat. In this blog post, we'll take you on a journey to help you master volleyball in no time.\n",
      "\n",
      "**Why Volleyball?**\n",
      "\n",
      "Volleyball is one of the most popular sports globally, with an annual revenue of over $1 billion. Its popularity can be attributed to its simplicity, ease of play, and the fact that it's a team sport. Whether you're a fan of Nike's iconic volleyball shoes or a fan of the sport itself, volleyball is an excellent way to stay fit, build teamwork skills, and have fun.\n",
      "\n",
      "**Day 1-5: Building the Foundation**\n",
      "\n",
      "The first five days are crucial in laying the foundation for your volleyball journey. Here's what you need to focus on:\n",
      "\n",
      "1. **Master the Basic Stance**: Stand with your feet shoulder-width apart, with your knees slightly bent and your weight evenly distributed between both feet. This stance will help you maintain balance and stability throughout the game.\n",
      "2. **Understand the Basic Rules**: Familiarize yourself with the basic rules of volleyball, including the scoring system, game duration, and common penalties.\n",
      "3. **Practice Your Serve**: Start with a simple underhand serve and gradually move on to an overhand serve. Practice serving with both your dominant and non-dominant hands.\n",
      "4. **Work on Your Passing**: Focus on developing a strong passing technique, using your arms and legs to direct the ball to your teammates.\n",
      "\n",
      "**Day 6-15: Building Your Skills**\n",
      "\n",
      "The next 10 days are all about building your skills and developing muscle memory. Here's what you need to focus on:\n",
      "\n",
      "1. **Improve Your Hitting**: Practice hitting with different types of balls, focusing on your footwork, arm swing, and follow-through.\n",
      "2. **Enhance Your Blocking**: Work on your blocking technique, focusing on timing, positioning, and reaction speed.\n",
      "3. **Develop Your Setting**: Practice setting with different types of balls, focusing on your footwork, arm swing, and accuracy.\n",
      "4. **Play Games**: Join a local volleyball league or play with friends to apply your new skills in a game-like setting.\n",
      "\n",
      "**Day 16-30: Mastering Your Craft**\n",
      "\n",
      "The final 15 days are all about mastering your craft and\n"
     ]
    }
   ],
   "source": [
    "\n",
    "print (blog_chain.invoke({'title': Title_of_the_blog,'keywords': formatted_words , 'Blog_Length' : num_of_words}))\n"
   ]
  },
  {
   "cell_type": "code",
   "execution_count": 14,
   "metadata": {},
   "outputs": [
    {
     "name": "stdout",
     "output_type": "stream",
     "text": [
      " \n",
      "\n",
      "Here are a few options:\n",
      "\n",
      "1. \"The Art of Car Modifying: A Guide to Making Your Ride Unique\"\n",
      "2. \"Modifying Your Car: Tips, Tricks, and Techniques\"\n",
      "3. \"From Stock to Sick: The Ultimate Car Modification Guide\"\n",
      "4. \"The World of Car Modifying: A Beginner's Guide\"\n",
      "5. \"Customizing Your Car: A Step-by-Step Guide\"\n",
      "6. \"The Science of Car Modifying: Understanding the Basics\"\n",
      "7. \"The Art of Car Customization: A Guide to Making Your Ride Stand Out\"\n",
      "8. \"Modifying Your Car: A Guide to Performance, Style, and Function\"\n",
      "9. \"The World of High-Performance Car Modifying\"\n",
      "10. \"The Ultimate Guide to Car Modification: From Basic to Advanced\"\n",
      "\n",
      "Choose the one that resonates with your blog's tone and style. Good luck with your blog! \n"
     ]
    }
   ],
   "source": [
    "print(llm.invoke('I want write a Blog on Modifing a car please suggest me a title for it without any explanation.'))"
   ]
  },
  {
   "cell_type": "code",
   "execution_count": 15,
   "metadata": {},
   "outputs": [],
   "source": [
    "title_for_car_blog = 'The Art of Car Customization: A Guide to Modifying Your Vehicle'\n",
    "key_words = 'Engine,Horsepower,Tuning,Accessories,saftey'\n",
    "Length = 300"
   ]
  },
  {
   "cell_type": "code",
   "execution_count": 16,
   "metadata": {},
   "outputs": [],
   "source": [
    "prompt_Template_for_CarModification = PromptTemplate(\n",
    "    inputvariables = ['Title,key_words,Length'],\n",
    "    template =\n",
    "\n",
    "    '''\n",
    "    Write a high-Quality , informatove , technical blog on topic {Title}.\n",
    "\n",
    "    Target the audience towards a car enthusiasts.\n",
    "\n",
    "    use a conversational writing style and strucutre the content with introduction , body paragraph and conclusion.\n",
    "\n",
    "    try to incoporate these words {key_words}.\n",
    "\n",
    "    Aim for content Length of {Length}.\n",
    "\n",
    "    '''\n",
    ")"
   ]
  },
  {
   "cell_type": "code",
   "execution_count": 17,
   "metadata": {},
   "outputs": [],
   "source": [
    "Carblog_chain = prompt_Template_for_CarModification | llm "
   ]
  },
  {
   "cell_type": "code",
   "execution_count": 18,
   "metadata": {},
   "outputs": [
    {
     "name": "stdout",
     "output_type": "stream",
     "text": [
      "\n",
      "\n",
      "\n",
      "\n",
      "The Art of Car Customization: A Guide to Modifying Your Vehicle\n",
      "\n",
      "As a car enthusiast, there's nothing quite like the thrill of customizing your vehicle to make it truly unique and reflect your personality. Whether you're looking to upgrade your engine, add some extra horsepower, or simply make your ride stand out from the crowd, car customization is an art that requires skill, creativity, and a deep understanding of the mechanics involved. In this guide, we'll explore the world of car customization, covering the basics, the benefits, and the best practices to ensure a safe and successful modification process.\n",
      "\n",
      "First and foremost, it's essential to understand the importance of safety when it comes to car customization. Modifying your vehicle can be a complex process, and it's crucial to ensure that any changes you make don't compromise the safety of yourself, your passengers, or other road users. This means taking the time to research and understand the regulations and guidelines that apply to your vehicle, as well as consulting with a professional mechanic or tuner to ensure that any modifications are done correctly and safely.\n",
      "\n",
      "Once you've got safety covered, it's time to start thinking about the fun stuff – the engine, horsepower, and tuning. Upgrading your engine can be a game-changer, providing a significant boost in power and performance. This can be achieved through a range of methods, including engine tuning, turbocharging, and supercharging. When it comes to tuning, it's essential to find a reputable and experienced tuner who can help you achieve the perfect balance between power and fuel efficiency.\n",
      "\n",
      "Of course, engine modifications are just the beginning. There are countless accessories available to help you customize your vehicle and make it truly unique. From performance-enhancing parts like exhaust systems and suspension upgrades, to aesthetic additions like body kits and wheels, the options are endless. When choosing accessories, it's essential to prioritize quality and durability, ensuring that any additions you make are designed to withstand the rigors of regular driving.\n",
      "\n",
      "Finally, it's worth noting that car customization is not just about making your vehicle look or perform better – it's also an art form. With the right combination of creativity, skill, and attention to detail, you can transform your vehicle into a true work of art that reflects your personality and style. Whether you're looking to create a show-stopping street machine or a high-performance track car, the possibilities are endless, and the sense of satisfaction you'll get from seeing your creation come to life is unbeatable.\n",
      "\n",
      "In conclusion, car customization is an art that requires skill\n"
     ]
    }
   ],
   "source": [
    "print(Carblog_chain.invoke({'Title' : title_for_car_blog ,'key_words': key_words, 'Length':Length}))"
   ]
  }
 ],
 "metadata": {
  "kernelspec": {
   "display_name": "Python 3",
   "language": "python",
   "name": "python3"
  },
  "language_info": {
   "codemirror_mode": {
    "name": "ipython",
    "version": 3
   },
   "file_extension": ".py",
   "mimetype": "text/x-python",
   "name": "python",
   "nbconvert_exporter": "python",
   "pygments_lexer": "ipython3",
   "version": "3.12.4"
  }
 },
 "nbformat": 4,
 "nbformat_minor": 2
}
